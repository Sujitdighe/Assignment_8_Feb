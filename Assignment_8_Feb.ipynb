{
 "cells": [
  {
   "cell_type": "code",
   "execution_count": null,
   "id": "c5492771",
   "metadata": {},
   "outputs": [],
   "source": [
    "# Q1. What is Abstraction in OOP?\n",
    "# Abstraction in object-oriented programming refers to the concept of hiding the complex implementation details and showing only the essential features of the object. It focuses on what an object does rather than how it does it.\n",
    "\n",
    "# Example:\n",
    "# Consider a Vehicle class. We don't need to know how the engine works or how the gears change to drive the vehicle. Instead, we interact with the vehicle through its essential features like start(), stop(), accelerate(), and brake(). This abstraction allows us to use the vehicle without worrying about its internal workings.\n",
    "\n",
    "# Q2. Differentiate between Abstraction and Encapsulation.\n",
    "# Abstraction:\n",
    "\n",
    "# Abstraction focuses on showing only the necessary features of an object while hiding its implementation details.\n",
    "# It deals with the 'what' aspect of an object.\n",
    "# Example: A Shape class providing methods like calculate_area() and calculate_perimeter() without revealing how these calculations are done.\n",
    "# Encapsulation:\n",
    "\n",
    "# Encapsulation involves bundling the data (attributes) and methods (behaviors) that operate on the data into a single unit (class), and restricting access to some of the object's components.\n",
    "# It deals with the 'how' aspect of an object.\n",
    "# Example: A BankAccount class where the account balance is kept private and can only be accessed or modified through specific methods like deposit() and withdraw().\n",
    "# Q3. What is the abc module in Python? Why is it used?\n",
    "# The abc module in Python stands for \"Abstract Base Classes\". It provides tools for declaring abstract base classes and for working with them. Abstract base classes are classes that are meant to be subclassed, but not instantiated directly. They define a blueprint for other classes.\n",
    "\n",
    "# Purpose:\n",
    "\n",
    "# The abc module is used for implementing abstract base classes in Python.\n",
    "# It helps in enforcing the implementation of certain methods in subclasses.\n",
    "# It enables polymorphism by defining a common interface for subclasses to follow.\n",
    "# Q4. How can we achieve data abstraction?\n",
    "# Data abstraction can be achieved in object-oriented programming through the use of abstract classes and interfaces. Abstract classes provide a blueprint for other classes and can contain abstract methods (methods without implementation). Subclasses of abstract classes must implement these abstract methods. Interfaces define a contract for classes that implement them, specifying the methods that must be implemented.\n",
    "\n",
    "# Q5. Can we create an instance of an abstract class? Explain your answer.\n",
    "# No, we cannot create an instance of an abstract class in Python. Abstract classes are meant to be subclassed, and they typically contain one or more abstract methods that lack implementation. Since abstract classes are incomplete on their own, creating instances of them would be meaningless. Instead, we create instances of concrete subclasses that inherit from the abstract class and provide implementations for its abstract methods."
   ]
  }
 ],
 "metadata": {
  "kernelspec": {
   "display_name": "Python 3 (ipykernel)",
   "language": "python",
   "name": "python3"
  },
  "language_info": {
   "codemirror_mode": {
    "name": "ipython",
    "version": 3
   },
   "file_extension": ".py",
   "mimetype": "text/x-python",
   "name": "python",
   "nbconvert_exporter": "python",
   "pygments_lexer": "ipython3",
   "version": "3.9.7"
  }
 },
 "nbformat": 4,
 "nbformat_minor": 5
}
